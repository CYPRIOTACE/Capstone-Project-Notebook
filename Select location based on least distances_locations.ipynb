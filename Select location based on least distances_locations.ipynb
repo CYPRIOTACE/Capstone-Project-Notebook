{
 "cells": [
  {
   "cell_type": "markdown",
   "metadata": {
    "button": false,
    "deletable": true,
    "new_sheet": false,
    "run_control": {
     "read_only": false
    }
   },
   "source": [
    "### Import necessary Libraries"
   ]
  },
  {
   "cell_type": "code",
   "execution_count": 2,
   "metadata": {
    "button": false,
    "collapsed": false,
    "deletable": true,
    "jupyter": {
     "outputs_hidden": false
    },
    "new_sheet": false,
    "run_control": {
     "read_only": false
    }
   },
   "outputs": [
    {
     "name": "stdout",
     "output_type": "stream",
     "text": [
      "Solving environment: done\n",
      "\n",
      "\n",
      "==> WARNING: A newer version of conda exists. <==\n",
      "  current version: 4.5.11\n",
      "  latest version: 4.8.2\n",
      "\n",
      "Please update conda by running\n",
      "\n",
      "    $ conda update -n base -c defaults conda\n",
      "\n",
      "\n",
      "\n",
      "# All requested packages already installed.\n",
      "\n",
      "Solving environment: done\n",
      "\n",
      "\n",
      "==> WARNING: A newer version of conda exists. <==\n",
      "  current version: 4.5.11\n",
      "  latest version: 4.8.2\n",
      "\n",
      "Please update conda by running\n",
      "\n",
      "    $ conda update -n base -c defaults conda\n",
      "\n",
      "\n",
      "\n",
      "# All requested packages already installed.\n",
      "\n",
      "Folium installed\n",
      "Libraries imported.\n"
     ]
    }
   ],
   "source": [
    "import requests # library to handle requests\n",
    "import pandas as pd # library for data analsysis\n",
    "import numpy as np # library to handle data in a vectorized manner\n",
    "import random # library for random number generation\n",
    "\n",
    "!conda install -c conda-forge geopy --yes \n",
    "from geopy.geocoders import Nominatim # module to convert an address into latitude and longitude values\n",
    "\n",
    "# libraries for displaying images\n",
    "from IPython.display import Image \n",
    "from IPython.core.display import HTML \n",
    "    \n",
    "# tranforming json file into a pandas dataframe library\n",
    "from pandas.io.json import json_normalize\n",
    "\n",
    "!conda install -c conda-forge folium=0.5.0 --yes\n",
    "import folium # plotting library\n",
    "\n",
    "print('Folium installed')\n",
    "print('Libraries imported.')"
   ]
  },
  {
   "cell_type": "markdown",
   "metadata": {
    "button": false,
    "deletable": true,
    "new_sheet": false,
    "run_control": {
     "read_only": false
    }
   },
   "source": [
    "### Define Foursquare Credentials and Version"
   ]
  },
  {
   "cell_type": "markdown",
   "metadata": {
    "button": false,
    "deletable": true,
    "new_sheet": false,
    "run_control": {
     "read_only": false
    }
   },
   "source": [
    "##### Make sure that you have created a Foursquare developer account and have your credentials handy"
   ]
  },
  {
   "cell_type": "code",
   "execution_count": 3,
   "metadata": {
    "button": false,
    "collapsed": false,
    "deletable": true,
    "jupyter": {
     "outputs_hidden": false
    },
    "new_sheet": false,
    "run_control": {
     "read_only": false
    }
   },
   "outputs": [
    {
     "name": "stdout",
     "output_type": "stream",
     "text": [
      "Your credentails:\n",
      "CLIENT_ID: 0FF2X20UM2UWNJ34HCSPK0Q2RWLS3XJKUCFQLIUAW1L3IYZJ\n",
      "CLIENT_SECRET:ZVKE3OGDALPZJYVWTNBGIX13YUDUVGE23GOYWYIDCIZJDJRQ\n"
     ]
    }
   ],
   "source": [
    "CLIENT_ID = '0FF2X20UM2UWNJ34HCSPK0Q2RWLS3XJKUCFQLIUAW1L3IYZJ' # your Foursquare ID\n",
    "CLIENT_SECRET = 'ZVKE3OGDALPZJYVWTNBGIX13YUDUVGE23GOYWYIDCIZJDJRQ' # your Foursquare Secret\n",
    "VERSION = '20180604'\n",
    "LIMIT = 30\n",
    "print('Your credentails:')\n",
    "print('CLIENT_ID: ' + CLIENT_ID)\n",
    "print('CLIENT_SECRET:' + CLIENT_SECRET)"
   ]
  },
  {
   "cell_type": "markdown",
   "metadata": {
    "button": false,
    "deletable": true,
    "new_sheet": false,
    "run_control": {
     "read_only": false
    }
   },
   "source": [
    "  "
   ]
  },
  {
   "cell_type": "markdown",
   "metadata": {
    "button": false,
    "deletable": true,
    "new_sheet": false,
    "run_control": {
     "read_only": false
    }
   },
   "source": [
    "#### Let's assume you are a retired UK citizen looking to buy a house in Pafos/Cyprus My Hometown!You can choose whatever place you want in planet earth."
   ]
  },
  {
   "cell_type": "markdown",
   "metadata": {},
   "source": [
    "In order to define an instance of the geocoder, we need to define a user_agent. We will name our agent <em>foursquare_agent</em>, as shown below."
   ]
  },
  {
   "cell_type": "code",
   "execution_count": 87,
   "metadata": {
    "button": false,
    "collapsed": false,
    "deletable": true,
    "jupyter": {
     "outputs_hidden": false
    },
    "new_sheet": false,
    "run_control": {
     "read_only": false
    }
   },
   "outputs": [
    {
     "name": "stdout",
     "output_type": "stream",
     "text": [
      "34.7743988 32.4231586\n"
     ]
    }
   ],
   "source": [
    "address = 'Paphos'\n",
    "\n",
    "geolocator = Nominatim(user_agent=\"foursquare_agent\")\n",
    "location = geolocator.geocode(address)\n",
    "latitude = location.latitude\n",
    "longitude = location.longitude\n",
    "print(latitude, longitude)"
   ]
  },
  {
   "cell_type": "markdown",
   "metadata": {
    "button": false,
    "deletable": true,
    "new_sheet": false,
    "run_control": {
     "read_only": false
    }
   },
   "source": [
    "   "
   ]
  },
  {
   "cell_type": "markdown",
   "metadata": {
    "button": false,
    "deletable": true,
    "new_sheet": false,
    "run_control": {
     "read_only": false
    }
   },
   "source": [
    "<a id=\"item1\"></a>"
   ]
  },
  {
   "cell_type": "markdown",
   "metadata": {
    "button": false,
    "deletable": true,
    "new_sheet": false,
    "run_control": {
     "read_only": false
    }
   },
   "source": [
    "#### Now you will have to have some requirements of choosing the location,lets choose some features you would ideally want close by\n",
    "> `https://api.foursquare.com/v2/venues/`**search**`?client_id=`**CLIENT_ID**`&client_secret=`**CLIENT_SECRET**`&ll=`**LATITUDE**`,`**LONGITUDE**`&v=`**VERSION**`&query=`**QUERY**`&radius=`**RADIUS**`&limit=`**LIMIT**"
   ]
  },
  {
   "cell_type": "markdown",
   "metadata": {
    "button": false,
    "deletable": true,
    "new_sheet": false,
    "run_control": {
     "read_only": false
    }
   },
   "source": [
    "#### Now, let's assume you want a stadium nearby because you like running!Again choose places to your own liking!"
   ]
  },
  {
   "cell_type": "code",
   "execution_count": 88,
   "metadata": {
    "button": false,
    "collapsed": false,
    "deletable": true,
    "jupyter": {
     "outputs_hidden": false
    },
    "new_sheet": false,
    "run_control": {
     "read_only": false
    },
    "scrolled": true
   },
   "outputs": [
    {
     "name": "stdout",
     "output_type": "stream",
     "text": [
      "Stadium .... OK!\n"
     ]
    }
   ],
   "source": [
    "search_query = 'Stadium'\n",
    "radius = 10000\n",
    "print(search_query + ' .... OK!')"
   ]
  },
  {
   "cell_type": "markdown",
   "metadata": {},
   "source": [
    "#### Now, let's assume you want a supermarket nearby!"
   ]
  },
  {
   "cell_type": "code",
   "execution_count": 89,
   "metadata": {},
   "outputs": [
    {
     "name": "stdout",
     "output_type": "stream",
     "text": [
      "Supermarket .... OK!\n"
     ]
    }
   ],
   "source": [
    "search_query1 = 'Supermarket'\n",
    "radius = 10000\n",
    "print(search_query1 + ' .... OK!')"
   ]
  },
  {
   "cell_type": "markdown",
   "metadata": {},
   "source": [
    "#### Now, let's assume you want a school nearby!"
   ]
  },
  {
   "cell_type": "code",
   "execution_count": 90,
   "metadata": {},
   "outputs": [
    {
     "name": "stdout",
     "output_type": "stream",
     "text": [
      "School .... OK!\n"
     ]
    }
   ],
   "source": [
    "search_query2 = 'School'\n",
    "radius = 10000\n",
    "print(search_query2 + ' .... OK!')"
   ]
  },
  {
   "cell_type": "markdown",
   "metadata": {},
   "source": [
    "#### Now, let's assume you want a swimming pool nearby!"
   ]
  },
  {
   "cell_type": "code",
   "execution_count": 91,
   "metadata": {},
   "outputs": [
    {
     "name": "stdout",
     "output_type": "stream",
     "text": [
      "Swimming pool .... OK!\n"
     ]
    }
   ],
   "source": [
    "search_query3 = 'Swimming pool'\n",
    "radius = 10000\n",
    "print(search_query3 + ' .... OK!')"
   ]
  },
  {
   "cell_type": "markdown",
   "metadata": {
    "button": false,
    "deletable": true,
    "new_sheet": false,
    "run_control": {
     "read_only": false
    }
   },
   "source": [
    "#### Define the corresponding URL"
   ]
  },
  {
   "cell_type": "code",
   "execution_count": 92,
   "metadata": {
    "button": false,
    "collapsed": false,
    "deletable": true,
    "jupyter": {
     "outputs_hidden": false
    },
    "new_sheet": false,
    "run_control": {
     "read_only": false
    }
   },
   "outputs": [
    {
     "data": {
      "text/plain": [
       "'https://api.foursquare.com/v2/venues/search?client_id=0FF2X20UM2UWNJ34HCSPK0Q2RWLS3XJKUCFQLIUAW1L3IYZJ&client_secret=ZVKE3OGDALPZJYVWTNBGIX13YUDUVGE23GOYWYIDCIZJDJRQ&ll=34.7743988,32.4231586&v=20180604&query=Stadium&radius=10000&limit=30'"
      ]
     },
     "execution_count": 92,
     "metadata": {},
     "output_type": "execute_result"
    }
   ],
   "source": [
    "url = 'https://api.foursquare.com/v2/venues/search?client_id={}&client_secret={}&ll={},{}&v={}&query={}&radius={}&limit={}'.format(CLIENT_ID, CLIENT_SECRET, latitude, longitude, VERSION, search_query, radius, LIMIT)\n",
    "url"
   ]
  },
  {
   "cell_type": "code",
   "execution_count": 93,
   "metadata": {},
   "outputs": [
    {
     "data": {
      "text/plain": [
       "'https://api.foursquare.com/v2/venues/search?client_id=0FF2X20UM2UWNJ34HCSPK0Q2RWLS3XJKUCFQLIUAW1L3IYZJ&client_secret=ZVKE3OGDALPZJYVWTNBGIX13YUDUVGE23GOYWYIDCIZJDJRQ&ll=34.7743988,32.4231586&v=20180604&query=Supermarket&radius=10000&limit=30'"
      ]
     },
     "execution_count": 93,
     "metadata": {},
     "output_type": "execute_result"
    }
   ],
   "source": [
    "url1 = 'https://api.foursquare.com/v2/venues/search?client_id={}&client_secret={}&ll={},{}&v={}&query={}&radius={}&limit={}'.format(CLIENT_ID, CLIENT_SECRET, latitude, longitude, VERSION, search_query1, radius, LIMIT)\n",
    "url1"
   ]
  },
  {
   "cell_type": "code",
   "execution_count": 94,
   "metadata": {},
   "outputs": [
    {
     "data": {
      "text/plain": [
       "'https://api.foursquare.com/v2/venues/search?client_id=0FF2X20UM2UWNJ34HCSPK0Q2RWLS3XJKUCFQLIUAW1L3IYZJ&client_secret=ZVKE3OGDALPZJYVWTNBGIX13YUDUVGE23GOYWYIDCIZJDJRQ&ll=34.7743988,32.4231586&v=20180604&query=School&radius=10000&limit=30'"
      ]
     },
     "execution_count": 94,
     "metadata": {},
     "output_type": "execute_result"
    }
   ],
   "source": [
    "url2 = 'https://api.foursquare.com/v2/venues/search?client_id={}&client_secret={}&ll={},{}&v={}&query={}&radius={}&limit={}'.format(CLIENT_ID, CLIENT_SECRET, latitude, longitude, VERSION, search_query2, radius, LIMIT)\n",
    "url2"
   ]
  },
  {
   "cell_type": "code",
   "execution_count": 95,
   "metadata": {},
   "outputs": [
    {
     "data": {
      "text/plain": [
       "'https://api.foursquare.com/v2/venues/search?client_id=0FF2X20UM2UWNJ34HCSPK0Q2RWLS3XJKUCFQLIUAW1L3IYZJ&client_secret=ZVKE3OGDALPZJYVWTNBGIX13YUDUVGE23GOYWYIDCIZJDJRQ&ll=34.7743988,32.4231586&v=20180604&query=Swimming pool&radius=10000&limit=30'"
      ]
     },
     "execution_count": 95,
     "metadata": {},
     "output_type": "execute_result"
    }
   ],
   "source": [
    "url3 = 'https://api.foursquare.com/v2/venues/search?client_id={}&client_secret={}&ll={},{}&v={}&query={}&radius={}&limit={}'.format(CLIENT_ID, CLIENT_SECRET, latitude, longitude, VERSION, search_query3, radius, LIMIT)\n",
    "url3"
   ]
  },
  {
   "cell_type": "code",
   "execution_count": 96,
   "metadata": {
    "button": false,
    "collapsed": false,
    "deletable": true,
    "jupyter": {
     "outputs_hidden": false
    },
    "new_sheet": false,
    "run_control": {
     "read_only": false
    },
    "scrolled": true
   },
   "outputs": [],
   "source": [
    "results = requests.get(url).json()"
   ]
  },
  {
   "cell_type": "markdown",
   "metadata": {
    "button": false,
    "deletable": true,
    "new_sheet": false,
    "run_control": {
     "read_only": false
    }
   },
   "source": [
    "#### Get relevant part of JSON and transform it into a *pandas* dataframe"
   ]
  },
  {
   "cell_type": "code",
   "execution_count": 97,
   "metadata": {},
   "outputs": [],
   "source": [
    "results1 = requests.get(url1).json()"
   ]
  },
  {
   "cell_type": "code",
   "execution_count": 98,
   "metadata": {},
   "outputs": [],
   "source": [
    "results2 = requests.get(url2).json()"
   ]
  },
  {
   "cell_type": "code",
   "execution_count": 99,
   "metadata": {},
   "outputs": [],
   "source": [
    "results3 = requests.get(url3).json()"
   ]
  },
  {
   "cell_type": "code",
   "execution_count": 100,
   "metadata": {
    "button": false,
    "collapsed": false,
    "deletable": true,
    "jupyter": {
     "outputs_hidden": false
    },
    "new_sheet": false,
    "run_control": {
     "read_only": false
    }
   },
   "outputs": [],
   "source": [
    "# assign relevant part of JSON to venues\n",
    "Stadium = results['response']['venues']\n",
    "\n",
    "# tranform venues into a dataframe\n",
    "StadiumDF = json_normalize(Stadium)"
   ]
  },
  {
   "cell_type": "code",
   "execution_count": 101,
   "metadata": {},
   "outputs": [],
   "source": [
    "Grocery = results1['response']['venues']\n",
    "\n",
    "# tranform venues into a dataframe\n",
    "GroceryDF = json_normalize(Grocery)"
   ]
  },
  {
   "cell_type": "code",
   "execution_count": 102,
   "metadata": {},
   "outputs": [],
   "source": [
    "School = results2['response']['venues']\n",
    "\n",
    "# tranform venues into a dataframe\n",
    "SchoolDF = json_normalize(School)"
   ]
  },
  {
   "cell_type": "code",
   "execution_count": 103,
   "metadata": {},
   "outputs": [],
   "source": [
    "SwimmingPool = results3['response']['venues']\n",
    "\n",
    "# tranform venues into a dataframe\n",
    "SwimmingPoolDF = json_normalize(SwimmingPool)"
   ]
  },
  {
   "cell_type": "markdown",
   "metadata": {
    "button": false,
    "deletable": true,
    "new_sheet": false,
    "run_control": {
     "read_only": false
    }
   },
   "source": [
    "#### Define information of interest and filter dataframe"
   ]
  },
  {
   "cell_type": "code",
   "execution_count": 104,
   "metadata": {
    "button": false,
    "collapsed": false,
    "deletable": true,
    "jupyter": {
     "outputs_hidden": false
    },
    "new_sheet": false,
    "run_control": {
     "read_only": false
    },
    "scrolled": true
   },
   "outputs": [],
   "source": [
    "datGrocery=GroceryDF[['name','location.lat','location.lng']]\n",
    "datGrocery.insert(0, 'Category',\"Grocery\")\n",
    "datGrocery.rename(columns={\"location.lat\": \"location_lat\", \"location.lng\": \"location_lng\"},inplace=True)"
   ]
  },
  {
   "cell_type": "code",
   "execution_count": 105,
   "metadata": {},
   "outputs": [],
   "source": [
    "datStadium=StadiumDF[['name','location.lat','location.lng']]\n",
    "datStadium.insert(0, 'Category',\"Stadium\")\n",
    "datStadium.rename(columns={\"location.lat\": \"location_lat\", \"location.lng\": \"location_lng\"},inplace=True)"
   ]
  },
  {
   "cell_type": "code",
   "execution_count": 106,
   "metadata": {},
   "outputs": [],
   "source": [
    "datSchool=SchoolDF[['name','location.lat','location.lng']]\n",
    "datSchool.insert(0, 'Category',\"School\")\n",
    "datSchool.rename(columns={\"location.lat\": \"location_lat\", \"location.lng\": \"location_lng\"},inplace=True)"
   ]
  },
  {
   "cell_type": "code",
   "execution_count": 107,
   "metadata": {},
   "outputs": [],
   "source": [
    "datSwimmingPool=SwimmingPoolDF[['name','location.lat','location.lng']]\n",
    "datSwimmingPool.insert(0, 'Category',\"SwimmingPool\")\n",
    "datSwimmingPool.rename(columns={\"location.lat\": \"location_lat\", \"location.lng\": \"location_lng\"},inplace=True)"
   ]
  },
  {
   "cell_type": "code",
   "execution_count": 108,
   "metadata": {},
   "outputs": [],
   "source": [
    "Alldat=pd.concat([datSchool, datGrocery, datStadium, datSwimmingPool])\n",
    "d = {\"SwimmingPool\": 'Blue', \"Grocery\": 'Green', \"School\": 'Black', \"Stadium\": 'Red'}"
   ]
  },
  {
   "cell_type": "code",
   "execution_count": 109,
   "metadata": {},
   "outputs": [],
   "source": [
    "Alldat['Color'] = Alldat['Category'].map(d) "
   ]
  },
  {
   "cell_type": "markdown",
   "metadata": {
    "button": false,
    "deletable": true,
    "new_sheet": false,
    "run_control": {
     "read_only": false
    }
   },
   "source": [
    "#### Let's visualize the features "
   ]
  },
  {
   "cell_type": "code",
   "execution_count": 110,
   "metadata": {
    "button": false,
    "collapsed": false,
    "deletable": true,
    "jupyter": {
     "outputs_hidden": false
    },
    "new_sheet": false,
    "run_control": {
     "read_only": false
    }
   },
   "outputs": [
    {
     "data": {
      "text/html": [
       "<div style=\"width:100%;\"><div style=\"position:relative;width:100%;height:0;padding-bottom:60%;\"><iframe src=\"data:text/html;charset=utf-8;base64,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\" style=\"position:absolute;width:100%;height:100%;left:0;top:0;border:none !important;\" allowfullscreen webkitallowfullscreen mozallowfullscreen></iframe></div></div>"
      ],
      "text/plain": [
       "<folium.folium.Map at 0x7f9670f7a128>"
      ]
     },
     "execution_count": 110,
     "metadata": {},
     "output_type": "execute_result"
    }
   ],
   "source": [
    "venues_map = folium.Map(location=[latitude, longitude], zoom_start=12) # generate map \n",
    "\n",
    "folium.features.CircleMarker(\n",
    "    [latitude, longitude],\n",
    "    radius=10,\n",
    "    fill = True,\n",
    "    fill_opacity = 0.6\n",
    "    \n",
    ").add_to(venues_map)\n",
    "\n",
    "# add the features\n",
    "for lat, lng, label,Color in zip(Alldat.location_lat, Alldat.location_lng, Alldat.Category,Alldat.Color):\n",
    "    folium.features.CircleMarker(\n",
    "    [lat, lng],\n",
    "    popup=label,\n",
    "    color=Color,\n",
    "    fill = True,\n",
    "    fill_color=Color\n",
    "        \n",
    ").add_to(venues_map)\n",
    "\n",
    "# display map\n",
    "venues_map"
   ]
  },
  {
   "cell_type": "markdown",
   "metadata": {},
   "source": [
    "#### Create Arrays with Coordinates for each location by category"
   ]
  },
  {
   "cell_type": "code",
   "execution_count": 111,
   "metadata": {},
   "outputs": [],
   "source": [
    "SwimmingPoolCoordinates=Alldat[Alldat['Category']==\"SwimmingPool\"][['location_lat','location_lng']]\n",
    "GroceryCoordinates=Alldat[Alldat['Category']==\"Grocery\"][['location_lat','location_lng']]\n",
    "SchoolCoordinates=Alldat[Alldat['Category']==\"School\"][['location_lat','location_lng']]\n",
    "StadiumCoordinates=Alldat[Alldat['Category']==\"Stadium\"][['location_lat','location_lng']]"
   ]
  },
  {
   "cell_type": "markdown",
   "metadata": {},
   "source": [
    "#### Insert shapely in order you can you use it later on to gauge least distances between places!"
   ]
  },
  {
   "cell_type": "code",
   "execution_count": 112,
   "metadata": {},
   "outputs": [
    {
     "name": "stdout",
     "output_type": "stream",
     "text": [
      "Requirement already satisfied: shapely in /home/jupyterlab/conda/envs/python/lib/python3.6/site-packages (1.7.0)\n",
      "Note: you may need to restart the kernel to use updated packages.\n"
     ]
    }
   ],
   "source": [
    "pip install shapely"
   ]
  },
  {
   "cell_type": "markdown",
   "metadata": {},
   "source": [
    "#### Some renaming to tide up the dataframes!"
   ]
  },
  {
   "cell_type": "markdown",
   "metadata": {
    "button": false,
    "deletable": true,
    "new_sheet": false,
    "run_control": {
     "read_only": false
    }
   },
   "source": [
    "   "
   ]
  },
  {
   "cell_type": "code",
   "execution_count": 113,
   "metadata": {},
   "outputs": [],
   "source": [
    "SwimmingPoolCoordinates=SwimmingPoolCoordinates.rename(columns={\"location_lat\": \"locationlatSwim\", \"location_lng\": \"locationlngSwim\"})\n",
    "GroceryCoordinates=GroceryCoordinates.rename(columns={\"location_lat\": \"locationlatGrocery\", \"location_lng\": \"locationlngGrocery\"})\n",
    "SchoolCoordinates=SchoolCoordinates.rename(columns={\"location_lat\": \"locationlatSchool\", \"location_lng\": \"locationlngSchool\"})\n",
    "StadiumCoordinates=StadiumCoordinates.rename(columns={\"location_lat\": \"locationlatStadium\", \"location_lng\": \"locationlngStadium\"})"
   ]
  },
  {
   "cell_type": "code",
   "execution_count": 114,
   "metadata": {},
   "outputs": [],
   "source": [
    "GroceryCoordinates=GroceryCoordinates[['locationlatGrocery','locationlngGrocery']]\n",
    "SwimmingPoolCoordinates=SwimmingPoolCoordinates[['locationlatSwim','locationlngSwim']]\n",
    "StadiumPoolCoordinates=StadiumCoordinates[['locationlatStadium','locationlngStadium']]\n",
    "SchoolPoolCoordinates=SchoolCoordinates[['locationlatSchool','locationlngSchool']]"
   ]
  },
  {
   "cell_type": "markdown",
   "metadata": {},
   "source": [
    "#### This is to produce a dataframe with all the features combinatios!"
   ]
  },
  {
   "cell_type": "markdown",
   "metadata": {
    "button": false,
    "deletable": true,
    "new_sheet": false,
    "run_control": {
     "read_only": false
    }
   },
   "source": [
    "<a id=\"item6\"></a>"
   ]
  },
  {
   "cell_type": "code",
   "execution_count": 115,
   "metadata": {},
   "outputs": [],
   "source": [
    "#GroceryCoordinates.join(SwimmingPoolCoordinates, how='outer')\n",
    "GroceryCoordinates['key'] = 0\n",
    "SwimmingPoolCoordinates['key'] = 0\n",
    "StadiumPoolCoordinates['key'] = 0\n",
    "SchoolPoolCoordinates['key'] = 0\n",
    "\n",
    "df_cartesian = GroceryCoordinates.merge(SwimmingPoolCoordinates, how='outer')\n",
    "df1_cartesian= df_cartesian.merge(StadiumPoolCoordinates, how='outer')\n",
    "coordinates_combinations= df1_cartesian.merge(SchoolPoolCoordinates, how='outer')\n"
   ]
  },
  {
   "cell_type": "code",
   "execution_count": 116,
   "metadata": {},
   "outputs": [],
   "source": [
    "from shapely.geometry import Polygon"
   ]
  },
  {
   "cell_type": "markdown",
   "metadata": {},
   "source": [
    "#### Create a function that will calculate the perimeter of the polygon of the 4 features!"
   ]
  },
  {
   "cell_type": "code",
   "execution_count": 122,
   "metadata": {},
   "outputs": [],
   "source": [
    "def calculate_length(row):\n",
    "    return Polygon([(row['locationlatGrocery'], row['locationlngGrocery']), (row['locationlatSwim'], row['locationlngSwim']), (row['locationlatStadium'], row['locationlngStadium']), (row['locationlatSchool'], row['locationlngSchool'])]).length"
   ]
  },
  {
   "cell_type": "markdown",
   "metadata": {},
   "source": [
    "#### We apply the function to calculate the perimeter of each group of features,and choose some top results!"
   ]
  },
  {
   "cell_type": "code",
   "execution_count": 123,
   "metadata": {},
   "outputs": [],
   "source": [
    "coordinates_combinations['area'] = coordinates_combinations.apply(calculate_length, axis=1)\n",
    "Top10=coordinates_combinations.sort_values('area', ascending=True).head(9)"
   ]
  },
  {
   "cell_type": "markdown",
   "metadata": {},
   "source": [
    "#### We add some ranking to it so we know which is the best in terms of distances"
   ]
  },
  {
   "cell_type": "code",
   "execution_count": 124,
   "metadata": {},
   "outputs": [
    {
     "data": {
      "text/html": [
       "<div>\n",
       "<style scoped>\n",
       "    .dataframe tbody tr th:only-of-type {\n",
       "        vertical-align: middle;\n",
       "    }\n",
       "\n",
       "    .dataframe tbody tr th {\n",
       "        vertical-align: top;\n",
       "    }\n",
       "\n",
       "    .dataframe thead th {\n",
       "        text-align: right;\n",
       "    }\n",
       "</style>\n",
       "<table border=\"1\" class=\"dataframe\">\n",
       "  <thead>\n",
       "    <tr style=\"text-align: right;\">\n",
       "      <th></th>\n",
       "      <th>locationlatGrocery</th>\n",
       "      <th>locationlngGrocery</th>\n",
       "      <th>key</th>\n",
       "      <th>locationlatSwim</th>\n",
       "      <th>locationlngSwim</th>\n",
       "      <th>locationlatStadium</th>\n",
       "      <th>locationlngStadium</th>\n",
       "      <th>locationlatSchool</th>\n",
       "      <th>locationlngSchool</th>\n",
       "      <th>area</th>\n",
       "      <th>Ranked</th>\n",
       "    </tr>\n",
       "  </thead>\n",
       "  <tbody>\n",
       "    <tr>\n",
       "      <th>196</th>\n",
       "      <td>34.783857</td>\n",
       "      <td>32.430154</td>\n",
       "      <td>0</td>\n",
       "      <td>34.781822</td>\n",
       "      <td>32.436882</td>\n",
       "      <td>34.7748</td>\n",
       "      <td>32.425204</td>\n",
       "      <td>34.778881</td>\n",
       "      <td>32.428856</td>\n",
       "      <td>0.031275</td>\n",
       "      <td>1.0</td>\n",
       "    </tr>\n",
       "    <tr>\n",
       "      <th>195</th>\n",
       "      <td>34.783857</td>\n",
       "      <td>32.430154</td>\n",
       "      <td>0</td>\n",
       "      <td>34.781822</td>\n",
       "      <td>32.436882</td>\n",
       "      <td>34.7748</td>\n",
       "      <td>32.425204</td>\n",
       "      <td>34.778286</td>\n",
       "      <td>32.425476</td>\n",
       "      <td>0.031427</td>\n",
       "      <td>2.0</td>\n",
       "    </tr>\n",
       "    <tr>\n",
       "      <th>7605</th>\n",
       "      <td>34.761566</td>\n",
       "      <td>32.425758</td>\n",
       "      <td>0</td>\n",
       "      <td>34.762884</td>\n",
       "      <td>32.428308</td>\n",
       "      <td>34.7748</td>\n",
       "      <td>32.425204</td>\n",
       "      <td>34.778286</td>\n",
       "      <td>32.425476</td>\n",
       "      <td>0.035404</td>\n",
       "      <td>3.0</td>\n",
       "    </tr>\n",
       "    <tr>\n",
       "      <th>5525</th>\n",
       "      <td>34.762011</td>\n",
       "      <td>32.420233</td>\n",
       "      <td>0</td>\n",
       "      <td>34.765703</td>\n",
       "      <td>32.417886</td>\n",
       "      <td>34.7748</td>\n",
       "      <td>32.425204</td>\n",
       "      <td>34.778286</td>\n",
       "      <td>32.425476</td>\n",
       "      <td>0.036645</td>\n",
       "      <td>4.0</td>\n",
       "    </tr>\n",
       "    <tr>\n",
       "      <th>5915</th>\n",
       "      <td>34.761566</td>\n",
       "      <td>32.425758</td>\n",
       "      <td>0</td>\n",
       "      <td>34.762897</td>\n",
       "      <td>32.429448</td>\n",
       "      <td>34.7748</td>\n",
       "      <td>32.425204</td>\n",
       "      <td>34.778286</td>\n",
       "      <td>32.425476</td>\n",
       "      <td>0.036779</td>\n",
       "      <td>5.0</td>\n",
       "    </tr>\n",
       "    <tr>\n",
       "      <th>7606</th>\n",
       "      <td>34.761566</td>\n",
       "      <td>32.425758</td>\n",
       "      <td>0</td>\n",
       "      <td>34.762884</td>\n",
       "      <td>32.428308</td>\n",
       "      <td>34.7748</td>\n",
       "      <td>32.425204</td>\n",
       "      <td>34.778881</td>\n",
       "      <td>32.428856</td>\n",
       "      <td>0.038252</td>\n",
       "      <td>6.0</td>\n",
       "    </tr>\n",
       "    <tr>\n",
       "      <th>3640</th>\n",
       "      <td>34.769549</td>\n",
       "      <td>32.410433</td>\n",
       "      <td>0</td>\n",
       "      <td>34.771439</td>\n",
       "      <td>32.409199</td>\n",
       "      <td>34.7748</td>\n",
       "      <td>32.425204</td>\n",
       "      <td>34.778286</td>\n",
       "      <td>32.425476</td>\n",
       "      <td>0.039504</td>\n",
       "      <td>7.0</td>\n",
       "    </tr>\n",
       "    <tr>\n",
       "      <th>3643</th>\n",
       "      <td>34.769549</td>\n",
       "      <td>32.410433</td>\n",
       "      <td>0</td>\n",
       "      <td>34.771439</td>\n",
       "      <td>32.409199</td>\n",
       "      <td>34.7748</td>\n",
       "      <td>32.425204</td>\n",
       "      <td>34.765688</td>\n",
       "      <td>32.410748</td>\n",
       "      <td>0.039573</td>\n",
       "      <td>8.0</td>\n",
       "    </tr>\n",
       "    <tr>\n",
       "      <th>5916</th>\n",
       "      <td>34.761566</td>\n",
       "      <td>32.425758</td>\n",
       "      <td>0</td>\n",
       "      <td>34.762897</td>\n",
       "      <td>32.429448</td>\n",
       "      <td>34.7748</td>\n",
       "      <td>32.425204</td>\n",
       "      <td>34.778881</td>\n",
       "      <td>32.428856</td>\n",
       "      <td>0.039627</td>\n",
       "      <td>9.0</td>\n",
       "    </tr>\n",
       "  </tbody>\n",
       "</table>\n",
       "</div>"
      ],
      "text/plain": [
       "      locationlatGrocery  locationlngGrocery  key  locationlatSwim  \\\n",
       "196            34.783857           32.430154    0        34.781822   \n",
       "195            34.783857           32.430154    0        34.781822   \n",
       "7605           34.761566           32.425758    0        34.762884   \n",
       "5525           34.762011           32.420233    0        34.765703   \n",
       "5915           34.761566           32.425758    0        34.762897   \n",
       "7606           34.761566           32.425758    0        34.762884   \n",
       "3640           34.769549           32.410433    0        34.771439   \n",
       "3643           34.769549           32.410433    0        34.771439   \n",
       "5916           34.761566           32.425758    0        34.762897   \n",
       "\n",
       "      locationlngSwim  locationlatStadium  locationlngStadium  \\\n",
       "196         32.436882             34.7748           32.425204   \n",
       "195         32.436882             34.7748           32.425204   \n",
       "7605        32.428308             34.7748           32.425204   \n",
       "5525        32.417886             34.7748           32.425204   \n",
       "5915        32.429448             34.7748           32.425204   \n",
       "7606        32.428308             34.7748           32.425204   \n",
       "3640        32.409199             34.7748           32.425204   \n",
       "3643        32.409199             34.7748           32.425204   \n",
       "5916        32.429448             34.7748           32.425204   \n",
       "\n",
       "      locationlatSchool  locationlngSchool      area  Ranked  \n",
       "196           34.778881          32.428856  0.031275     1.0  \n",
       "195           34.778286          32.425476  0.031427     2.0  \n",
       "7605          34.778286          32.425476  0.035404     3.0  \n",
       "5525          34.778286          32.425476  0.036645     4.0  \n",
       "5915          34.778286          32.425476  0.036779     5.0  \n",
       "7606          34.778881          32.428856  0.038252     6.0  \n",
       "3640          34.778286          32.425476  0.039504     7.0  \n",
       "3643          34.765688          32.410748  0.039573     8.0  \n",
       "5916          34.778881          32.428856  0.039627     9.0  "
      ]
     },
     "execution_count": 124,
     "metadata": {},
     "output_type": "execute_result"
    }
   ],
   "source": [
    "Top10['Ranked']=Top10['area'].rank(ascending=1,method='min').head(9)\n",
    "Top10"
   ]
  },
  {
   "cell_type": "markdown",
   "metadata": {},
   "source": [
    "#### We define a color function so we know what are the top ranked places!"
   ]
  },
  {
   "cell_type": "code",
   "execution_count": 126,
   "metadata": {},
   "outputs": [],
   "source": [
    "def color(Ranked): \n",
    "    if Ranked in range(-1,5): \n",
    "        col = 'green'\n",
    "    elif Ranked in range(5,10): \n",
    "        col = 'blue'\n",
    "    else: \n",
    "        col = 'orange'\n",
    "    return col "
   ]
  },
  {
   "cell_type": "markdown",
   "metadata": {},
   "source": [
    "#### Finally we visuallise the results with all the features!"
   ]
  },
  {
   "cell_type": "code",
   "execution_count": 127,
   "metadata": {},
   "outputs": [
    {
     "data": {
      "text/html": [
       "<div style=\"width:100%;\"><div style=\"position:relative;width:100%;height:0;padding-bottom:60%;\"><iframe src=\"data:text/html;charset=utf-8;base64,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\" style=\"position:absolute;width:100%;height:100%;left:0;top:0;border:none !important;\" allowfullscreen webkitallowfullscreen mozallowfullscreen></iframe></div></div>"
      ],
      "text/plain": [
       "<folium.folium.Map at 0x7f9665fa16a0>"
      ]
     },
     "execution_count": 127,
     "metadata": {},
     "output_type": "execute_result"
    }
   ],
   "source": [
    "venues_map = folium.Map(location=[latitude, longitude], zoom_start=13) # generate map \n",
    "for lat, lng, label,Color in zip(Alldat.location_lat, Alldat.location_lng, Alldat.Category,Alldat.Color):\n",
    "    folium.features.CircleMarker(\n",
    "    [lat, lng],\n",
    "    popup=label,\n",
    "    color=Color,\n",
    "    fill = True,\n",
    "    fill_color=Color\n",
    "        \n",
    ").add_to(venues_map)\n",
    "    \n",
    "for locationlatGrocery,locationlngGrocery,locationlatSwim,locationlngSwim,locationlatStadium,locationlngStadium,locationlatSchool,locationlngSchool,Ranked  in zip(Top10.locationlatGrocery,Top10.locationlngGrocery,Top10.locationlatSwim,Top10.locationlngSwim,Top10.locationlatStadium,Top10.locationlngStadium,Top10.locationlatSchool,Top10.locationlngSchool,Top10.Ranked):\n",
    "    folium.Marker(\n",
    "    [locationlatGrocery,locationlngGrocery,locationlatSwim,locationlngSwim,locationlatStadium,locationlngStadium,locationlatSchool,locationlngSchool,Ranked],\n",
    "    icon= folium.Icon(color=color(Ranked), \n",
    "                  icon_color='yellow',icon = 'home')\n",
    ").add_to(venues_map)\n",
    "\n",
    "# display map\n",
    "venues_map"
   ]
  }
 ],
 "metadata": {
  "kernelspec": {
   "display_name": "Python",
   "language": "python",
   "name": "conda-env-python-py"
  },
  "language_info": {
   "codemirror_mode": {
    "name": "ipython",
    "version": 3
   },
   "file_extension": ".py",
   "mimetype": "text/x-python",
   "name": "python",
   "nbconvert_exporter": "python",
   "pygments_lexer": "ipython3",
   "version": "3.6.7"
  },
  "widgets": {
   "state": {},
   "version": "1.1.2"
  }
 },
 "nbformat": 4,
 "nbformat_minor": 4
}
